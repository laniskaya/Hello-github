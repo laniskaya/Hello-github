{
 "cells": [
  {
   "cell_type": "markdown",
   "metadata": {},
   "source": [
    "##  Игра \"Угадай число !\""
   ]
  },
  {
   "cell_type": "markdown",
   "metadata": {},
   "source": [
    "###  Входные условия: \n",
    "   1. Компьютер загадывает число в диапазоне от  1 до 100. Наша задача отгадать данное \n",
    "      число за меньшее количество попыток.\n",
    "   2. Даны несколько вариантов решения задачи: \n",
    "   * с помощью циклов <font color='green'> **while** </font> и <font color='green'> **for** </font>\n",
    "   * с помощью <font color='green'> **функций**</font>\n",
    "   "
   ]
  },
  {
   "cell_type": "markdown",
   "metadata": {},
   "source": [
    "### Реализация алгоритма с циклом </font>  <font color='green'>**while**</font>:\n",
    "\n",
    " * бесконечный цикл <font color='green'> **while** </font> работает до того момента, когда условие <font color='green'>number == predict</font> станет **истинным**, а значит искомое число отгадано.\n",
    " * если пользователь называет число наугад, количество попыток будет разниться, по причине  \"шага\" следующей попытки:"
   ]
  },
  {
   "cell_type": "code",
   "execution_count": 9,
   "metadata": {},
   "outputs": [
    {
     "name": "stdout",
     "output_type": "stream",
     "text": [
      "Загадано число от 1 до 100\n",
      "10\n",
      "Угадываемое число больше 10 \n",
      "20\n",
      "Угадываемое число больше 20 \n",
      "30\n",
      "Угадываемое число больше 30 \n",
      "40\n",
      "Угадываемое число больше 40 \n",
      "50\n",
      "Угадываемое число больше 50 \n",
      "60\n",
      "Угадываемое число больше 60 \n",
      "70\n",
      "Угадываемое число больше 70 \n",
      "80\n",
      "Угадываемое число больше 80 \n",
      "90\n",
      "Угадываемое число меньше 90 \n",
      "81\n",
      "Угадываемое число больше 81 \n",
      "85\n",
      "Угадываемое число меньше 85 \n",
      "84\n",
      "Угадываемое число меньше 84 \n",
      "82\n",
      "Угадываемое число больше 82 \n",
      "83\n",
      "Вы угадали число 83 за 14 попыток.\n"
     ]
    }
   ],
   "source": [
    "import numpy as np\n",
    "\n",
    "count = 0                           # счетчик попыток\n",
    "number = np.random.randint(1,101)   # загадали число\n",
    "print (\"Загадано число от 1 до 100\")\n",
    "    \n",
    "while True:                        # бесконечный цикл\n",
    "    predict = int(input())         # предполагаемое число\n",
    "    count += 1                     # плюсуем попытку\n",
    "    if number == predict: break    # выход из цикла, если угадали\n",
    "    elif number > predict: print (f\"Угадываемое число больше {predict} \")\n",
    "    elif number < predict: print (f\"Угадываемое число меньше {predict} \")\n",
    "            \n",
    "print (f\"Вы угадали число {number} за {count} попыток.\")    "
   ]
  },
  {
   "cell_type": "markdown",
   "metadata": {},
   "source": [
    "### Реализация алгоритма с циклом **for**:"
   ]
  },
  {
   "cell_type": "markdown",
   "metadata": {},
   "source": [
    " * Алгоритм с <font color='green'> **циклом for** </font> реализует линейный поиск в диапазоне от 1 до 100 на каждой итерации прибавляя единицу.   \n",
    "#### Таким образом, число 1 этот алгоритм \"отгадает\" за 1 попытку, а число 100 за 100."
   ]
  },
  {
   "cell_type": "code",
   "execution_count": 10,
   "metadata": {},
   "outputs": [
    {
     "name": "stdout",
     "output_type": "stream",
     "text": [
      "Загадано число от 1 до 100\n",
      "Вы угадали число 62 за 62 попыток.\n"
     ]
    }
   ],
   "source": [
    "import numpy as np\n",
    "number = np.random.randint(1,101)      # загадали число\n",
    "print (\"Загадано число от 1 до 100\")\n",
    "for count in range(1,101):         # более компактный вариант счетчика\n",
    "    if number == count: break      # выход из цикла, если угадали      \n",
    "print (f\"Вы угадали число {number} за {count} попыток.\")  "
   ]
  },
  {
   "cell_type": "markdown",
   "metadata": {},
   "source": [
    "### Реализация алгоритма с помощью функции и цикла **while**"
   ]
  },
  {
   "cell_type": "markdown",
   "metadata": {},
   "source": [
    " * Повторяет логику редыдущего варианта и угадывает 1000 чисел в среднем за 101 попытку."
   ]
  },
  {
   "cell_type": "code",
   "execution_count": 85,
   "metadata": {},
   "outputs": [
    {
     "name": "stdout",
     "output_type": "stream",
     "text": [
      "Ваш алгоритм угадывает число в среднем за 101 попыток\n"
     ]
    },
    {
     "data": {
      "text/plain": [
       "101"
      ]
     },
     "execution_count": 85,
     "metadata": {},
     "output_type": "execute_result"
    }
   ],
   "source": [
    "import numpy as np\n",
    "\n",
    "def game_core_v1(number):\n",
    "    count = 0\n",
    "    while True:\n",
    "        count+=1\n",
    "        predict = np.random.randint(1,101) # предполагаемое число\n",
    "        if number == predict: \n",
    "            return count # выход из цикла, если угадали\n",
    "        \n",
    "        \n",
    "def score_game(game_core):\n",
    "    count_ls = []\n",
    "    np.random.seed(1)  # фиксируем RANDOM SEED, чтобы ваш эксперимент был воспроизводим!\n",
    "    random_array = np.random.randint(1,101, size=(1000))\n",
    "    for number in random_array:\n",
    "        count_ls.append(game_core(number))\n",
    "    score = int(np.mean(count_ls))\n",
    "    print(f\"Ваш алгоритм угадывает число в среднем за {score} попыток\")\n",
    "    return(score)\n",
    "\n",
    "score_game(game_core_v1)"
   ]
  },
  {
   "cell_type": "markdown",
   "metadata": {},
   "source": [
    "### Реализация алгоритма с помощью функции, цикла while и операторов ветвления"
   ]
  },
  {
   "cell_type": "markdown",
   "metadata": {},
   "source": [
    "#### Данный вариант функции добавляет в цикл while условия сравнения предполагаемого числа с загаданным.  \n",
    "#### Такой алгоритм угадывает 1000 чисел в среднем за 33 попытки. "
   ]
  },
  {
   "cell_type": "code",
   "execution_count": 80,
   "metadata": {},
   "outputs": [
    {
     "name": "stdout",
     "output_type": "stream",
     "text": [
      "Ваш алгоритм угадывает число в среднем за 33 попыток\n"
     ]
    },
    {
     "data": {
      "text/plain": [
       "33"
      ]
     },
     "execution_count": 80,
     "metadata": {},
     "output_type": "execute_result"
    }
   ],
   "source": [
    "def game_core_v2(number):\n",
    "    count = 1\n",
    "    predict = np.random.randint(1,101)\n",
    "    \n",
    "    \n",
    "    while number != predict:\n",
    "        count+=1\n",
    "        if number > predict: \n",
    "            predict += 1\n",
    "        elif number < predict: \n",
    "            predict -= 1\n",
    "    return(count) # выход из цикла, если угадали\n",
    "\n",
    "def score_game(game_core):\n",
    "    count_ls = []\n",
    "    np.random.seed(1)  # фиксируем RANDOM SEED, чтобы ваш эксперимент был воспроизводим!\n",
    "    random_array = np.random.randint(1,101, size=(1000))\n",
    "    for number in random_array:\n",
    "        count_ls.append(game_core(number))\n",
    "    score = int(np.mean(count_ls))\n",
    "    print(f\"Ваш алгоритм угадывает число в среднем за {score} попыток\")\n",
    "    return(score)\n",
    "\n",
    "score_game(game_core_v2)"
   ]
  },
  {
   "cell_type": "markdown",
   "metadata": {},
   "source": [
    "### Нам необходимо изменить алгоритм таким образом, чтобы он отгадывал числа за как можно меньшее количество попыток\n"
   ]
  },
  {
   "cell_type": "markdown",
   "metadata": {},
   "source": [
    "![title](Desktop\\photo_2021-10-22_09-44-01.jpg)"
   ]
  },
  {
   "cell_type": "markdown",
   "metadata": {},
   "source": [
    " **Наиболее оптимальным вариантом в данном случае является бинарный поиск, когда мы называем число -  середину  диапазона, в нашем случае это число 50, и если это не искомое число, продолжаем делить отрезки   пополам  смещая границы диапазона и изменяя наше предполагаемое число в соответствии с условиями**."
   ]
  },
  {
   "cell_type": "markdown",
   "metadata": {},
   "source": [
    "#### Проверим как работает данный способ на уже знакомом примере:"
   ]
  },
  {
   "cell_type": "code",
   "execution_count": 11,
   "metadata": {},
   "outputs": [
    {
     "name": "stdout",
     "output_type": "stream",
     "text": [
      "Загадано число от 1 до 100\n",
      "50\n",
      "Угадываемое число больше 50 \n",
      "75\n",
      "Угадываемое число больше 75 \n",
      "88\n",
      "Угадываемое число больше 88 \n",
      "94\n",
      "Угадываемое число больше 94 \n",
      "97\n",
      "Угадываемое число больше 97 \n",
      "99\n",
      "Вы угадали число 99 за 6 попыток.\n"
     ]
    }
   ],
   "source": [
    "import numpy as np\n",
    "\n",
    "count = 0                           # счетчик попыток\n",
    "number = np.random.randint(1,101)   # загадали число\n",
    "print (\"Загадано число от 1 до 100\")\n",
    "    \n",
    "while True:                        # бесконечный цикл\n",
    "    predict = int(input())         # предполагаемое число\n",
    "    count += 1                     # плюсуем попытку\n",
    "    if number == predict: break    # выход из цикла, если угадали\n",
    "    elif number > predict: print (f\"Угадываемое число больше {predict} \")\n",
    "    elif number < predict: print (f\"Угадываемое число меньше {predict} \")\n",
    "            \n",
    "print (f\"Вы угадали число {number} за {count} попыток.\")    "
   ]
  },
  {
   "cell_type": "markdown",
   "metadata": {},
   "source": [
    "#### Мы угадали число 99 за 6 попыток с помощью  алгоритма бинарного поиска.\n",
    "#### То есть применяя данный способ, мы можем найти число в диапазоне от 1 до 100, максимум за 7 попыток"
   ]
  },
  {
   "cell_type": "markdown",
   "metadata": {},
   "source": [
    "### Реализация алгоритма с помощью функции, операторов ветвления и метода бинарного поиска"
   ]
  },
  {
   "cell_type": "markdown",
   "metadata": {},
   "source": [
    "#### Компьютер рандомно загадывает число в интервале от 1 до 100, то есть наш диапазон - это отсортированный список, который имеет границы и середину. \n",
    "\n",
    "#### Обозначим границы следующим образом:\n",
    "  * **нижняя граница - MIN = 1**\n",
    "  * **верхняя граница - MAX = 100**\n",
    "  * **середина - MID = 50**"
   ]
  },
  {
   "cell_type": "code",
   "execution_count": 13,
   "metadata": {},
   "outputs": [
    {
     "data": {
      "image/png": "[encoded data removed]",
      "text/plain": [
       "<IPython.core.display.Image object>"
      ]
     },
     "execution_count": 13,
     "metadata": {},
     "output_type": "execute_result"
    }
   ],
   "source": [
    "from IPython.display import Image\n",
    "Image(\"Desktop\\\\search_5.png\")"
   ]
  },
  {
   "cell_type": "markdown",
   "metadata": {},
   "source": [
    "#### Следуя алгоритму бинарного поиска, нам необходимо каждый раз сравнивать середину диапазона (MID) c числом, которое загадал компьютер. \n",
    "#### MID - это сумма MIN и MAX, деленная пополам, то есть: MID = (MIN + MAX) \\\\ 2\n",
    "#### Согласно условию, у  нас есть две переменные number и predict, которые мы сравниваем, следуя логике бинарного поиска, присвоим predict значение MID, то есть predict = (MIN + MAX) \\\\ 2"
   ]
  },
  {
   "cell_type": "markdown",
   "metadata": {},
   "source": [
    "#### Начало функции будет иметь следующий вид:\n",
    "\n",
    "##### import numpy as np\n",
    "\n",
    "##### def game_core_v3(number):\n",
    "    number = np.random.randint(1,101)\n",
    "    count = 1\n",
    "    min = 1\n",
    "    max = 100\n",
    "    predict = (min + max) // 2\n",
    "    while min <= max and number != predict: # условия выхода из цикла"
   ]
  },
  {
   "cell_type": "markdown",
   "metadata": {},
   "source": [
    "### Рассмотрим возможные варианты работы алгоритма:"
   ]
  },
  {
   "cell_type": "markdown",
   "metadata": {},
   "source": [
    "#### 1. Загаданное число больше предполагаемого числа, то есть number > predict "
   ]
  },
  {
   "cell_type": "code",
   "execution_count": 15,
   "metadata": {},
   "outputs": [
    {
     "data": {
      "image/png": "[encoded data removed]",
      "text/plain": [
       "<IPython.core.display.Image object>"
      ]
     },
     "execution_count": 15,
     "metadata": {},
     "output_type": "execute_result"
    }
   ],
   "source": [
    "from IPython.display import Image\n",
    "Image(\"Desktop\\search_2.png\")"
   ]
  },
  {
   "cell_type": "markdown",
   "metadata": {},
   "source": [
    "#### В этом случае минимальная граница MIN смещается вправо на значение predict + 1, то есть мы продожаем поиск в интервале от 51 до 100.\n",
    "#### Поскольку границы изменились, изменится и predict, который теперь равен середине диапазона от 51 до 100"
   ]
  },
  {
   "cell_type": "code",
   "execution_count": 17,
   "metadata": {},
   "outputs": [
    {
     "data": {
      "image/png": "[encoded data removed]",
      "text/plain": [
       "<IPython.core.display.Image object>"
      ]
     },
     "execution_count": 17,
     "metadata": {},
     "output_type": "execute_result"
    }
   ],
   "source": [
    "from IPython.display import Image\n",
    "Image(\"Desktop\\search_3.png\")"
   ]
  },
  {
   "cell_type": "markdown",
   "metadata": {},
   "source": [
    "#### 2. Загаданное число меньше предполагаемого числа, то есть number < predict"
   ]
  },
  {
   "cell_type": "code",
   "execution_count": 19,
   "metadata": {},
   "outputs": [
    {
     "data": {
      "image/png": "[encoded data removed]",
      "text/plain": [
       "<IPython.core.display.Image object>"
      ]
     },
     "execution_count": 19,
     "metadata": {},
     "output_type": "execute_result"
    }
   ],
   "source": [
    "from IPython.display import Image\n",
    "Image(\"Desktop\\search_0.png\")"
   ]
  },
  {
   "cell_type": "markdown",
   "metadata": {},
   "source": [
    "#### В этом случае максимальная граница MAX смещается влево на значение predict - 1, то есть мы продожаем поиск в интервале от 1 до 49.\n",
    "#### Поскольку границы изменились, изменится и predict, который теперь равен середине диапазона от 1 до 49"
   ]
  },
  {
   "cell_type": "code",
   "execution_count": 20,
   "metadata": {},
   "outputs": [
    {
     "data": {
      "image/png": "[encoded data removed]",
      "text/plain": [
       "<IPython.core.display.Image object>"
      ]
     },
     "execution_count": 20,
     "metadata": {},
     "output_type": "execute_result"
    }
   ],
   "source": [
    "from IPython.display import Image\n",
    "Image(\"Desktop\\search_1.png\")"
   ]
  },
  {
   "cell_type": "markdown",
   "metadata": {},
   "source": [
    "### Теперь протестируем наш алгоритм  с помощью функции print() и запустим его 5 раз"
   ]
  },
  {
   "cell_type": "code",
   "execution_count": 21,
   "metadata": {},
   "outputs": [
    {
     "name": "stdout",
     "output_type": "stream",
     "text": [
      "Загаданное число: 10, возможное: 50\n",
      "Загаданное число: 10, возможное: 25\n",
      "Загаданное число: 10, возможное: 12\n",
      "Загаданное число: 10, возможное: 6\n",
      "Загаданное число: 10, возможное: 9\n",
      "Количество попыток: 6\n",
      "Загаданное число: 84, возможное: 50\n",
      "Загаданное число: 84, возможное: 75\n",
      "Загаданное число: 84, возможное: 88\n",
      "Загаданное число: 84, возможное: 81\n",
      "Количество попыток: 5\n",
      "Загаданное число: 22, возможное: 50\n",
      "Загаданное число: 22, возможное: 25\n",
      "Загаданное число: 22, возможное: 12\n",
      "Загаданное число: 22, возможное: 18\n",
      "Загаданное число: 22, возможное: 21\n",
      "Загаданное число: 22, возможное: 23\n",
      "Количество попыток: 7\n",
      "Загаданное число: 37, возможное: 50\n",
      "Загаданное число: 37, возможное: 25\n",
      "Количество попыток: 3\n",
      "Загаданное число: 88, возможное: 50\n",
      "Загаданное число: 88, возможное: 75\n",
      "Количество попыток: 3\n",
      "Ваш алгоритм угадывает число в среднем за 4 попыток\n"
     ]
    },
    {
     "data": {
      "text/plain": [
       "4"
      ]
     },
     "execution_count": 21,
     "metadata": {},
     "output_type": "execute_result"
    }
   ],
   "source": [
    "import numpy as np\n",
    "import time\n",
    "\n",
    "def game_core_v3(number):\n",
    "    number = np.random.randint(1,101)\n",
    "    count = 1\n",
    "    min = 1\n",
    "    max = 100\n",
    "    predict = (min + max) // 2\n",
    "    while min <= max and number != predict:\n",
    "        print(f\"Загаданное число: {number}, возможное: {predict}\")\n",
    "        if number > predict:\n",
    "            min = predict + 1\n",
    "            predict = (min + max) // 2\n",
    "        elif number < predict:\n",
    "            max = predict - 1\n",
    "            predict = (min + max) // 2 \n",
    "        count+=1\n",
    "    print(f\"Количество попыток: {count}\")\n",
    "    time.sleep(1)\n",
    "    return count\n",
    "    \n",
    "    \n",
    "def score_game(game_core):\n",
    "    count_ls = []\n",
    "    np.random.seed(0)  # фиксируем RANDOM SEED, чтобы ваш эксперимент был воспроизводим\n",
    "    random_array = np.random.randint(1,101, size=(5))\n",
    "    for number in random_array:\n",
    "        count_ls.append(game_core(number))\n",
    "    score = int(np.mean(count_ls))\n",
    "    print(f\"Ваш алгоритм угадывает число в среднем за {score} попыток\")\n",
    "    return score\n",
    "\n",
    "score_game(game_core_v3)\n"
   ]
  },
  {
   "cell_type": "markdown",
   "metadata": {},
   "source": [
    "### Как видно алгоритм, работающий согласно бинарному поиску угадывает число  в среднем за 4 попытки"
   ]
  },
  {
   "cell_type": "markdown",
   "metadata": {},
   "source": [
    "### Теперь запустим нашу игру 1000 раз и посмотрим на результат"
   ]
  },
  {
   "cell_type": "code",
   "execution_count": 22,
   "metadata": {},
   "outputs": [
    {
     "name": "stdout",
     "output_type": "stream",
     "text": [
      "Ваш алгоритм угадывает число в среднем за 5 попыток\n"
     ]
    },
    {
     "data": {
      "text/plain": [
       "5"
      ]
     },
     "execution_count": 22,
     "metadata": {},
     "output_type": "execute_result"
    }
   ],
   "source": [
    "import numpy as np\n",
    "\n",
    "\n",
    "def game_core_v3(number):\n",
    "    number = np.random.randint(1,101)\n",
    "    count = 1\n",
    "    min = 1\n",
    "    max = 100\n",
    "    predict = (min + max) // 2\n",
    "    while min <= max and number != predict:\n",
    "        if number > predict:\n",
    "            min = predict + 1\n",
    "            predict = (min + max) // 2\n",
    "        elif number < predict:\n",
    "            max = predict - 1\n",
    "            predict = (min + max) // 2 \n",
    "        count+=1\n",
    "\n",
    "    return count\n",
    "    \n",
    "    \n",
    "def score_game(game_core):\n",
    "    count_ls = []\n",
    "    np.random.seed(0)  # фиксируем RANDOM SEED, чтобы ваш эксперимент был воспроизводим\n",
    "    random_array = np.random.randint(1,101, size=(1000))\n",
    "    for number in random_array:\n",
    "        count_ls.append(game_core(number))\n",
    "    score = int(np.mean(count_ls))\n",
    "    print(f\"Ваш алгоритм угадывает число в среднем за {score} попыток\")\n",
    "    return score\n",
    "\n",
    "score_game(game_core_v3)\n"
   ]
  },
  {
   "cell_type": "code",
   "execution_count": null,
   "metadata": {},
   "outputs": [],
   "source": []
  }
 ],
 "metadata": {
  "kernelspec": {
   "display_name": "Python 3 (ipykernel)",
   "language": "python",
   "name": "python3"
  },
  "language_info": {
   "codemirror_mode": {
    "name": "ipython",
    "version": 3
   },
   "file_extension": ".py",
   "mimetype": "text/x-python",
   "name": "python",
   "nbconvert_exporter": "python",
   "pygments_lexer": "ipython3",
   "version": "3.7.0"
  }
 },
 "nbformat": 4,
 "nbformat_minor": 5
}
